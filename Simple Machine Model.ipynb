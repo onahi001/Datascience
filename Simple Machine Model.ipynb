{
 "cells": [
  {
   "cell_type": "markdown",
   "metadata": {},
   "source": [
    "This is a program for a Linear Regression machine model. T"
   ]
  },
  {
   "cell_type": "code",
   "execution_count": 1,
   "metadata": {},
   "outputs": [],
   "source": [
    "import pandas as pd"
   ]
  },
  {
   "cell_type": "code",
   "execution_count": 2,
   "metadata": {},
   "outputs": [
    {
     "data": {
      "text/plain": [
       "Index(['OverallQual', 'YearBuilt', 'YearRemodAdd', 'TotalBsmtSF', '1stFlrSF',\n",
       "       'GrLivArea', 'FullBath', 'TotRmsAbvGrd', 'GarageCars', 'GarageArea',\n",
       "       'SalePrice', 'ExterQual_TA', 'Foundation_PConc', 'KitchenQual_TA'],\n",
       "      dtype='object')"
      ]
     },
     "execution_count": 2,
     "metadata": {},
     "output_type": "execute_result"
    }
   ],
   "source": [
    "# Reading the data to be analysed\n",
    "\n",
    "test = pd.read_csv ('test.csv')\n",
    "train = pd.read_csv ('train.csv')\n",
    "\n",
    "test.columns"
   ]
  },
  {
   "cell_type": "code",
   "execution_count": 3,
   "metadata": {},
   "outputs": [
    {
     "data": {
      "text/html": [
       "<div>\n",
       "<style scoped>\n",
       "    .dataframe tbody tr th:only-of-type {\n",
       "        vertical-align: middle;\n",
       "    }\n",
       "\n",
       "    .dataframe tbody tr th {\n",
       "        vertical-align: top;\n",
       "    }\n",
       "\n",
       "    .dataframe thead th {\n",
       "        text-align: right;\n",
       "    }\n",
       "</style>\n",
       "<table border=\"1\" class=\"dataframe\">\n",
       "  <thead>\n",
       "    <tr style=\"text-align: right;\">\n",
       "      <th></th>\n",
       "      <th>OverallQual</th>\n",
       "      <th>YearBuilt</th>\n",
       "      <th>YearRemodAdd</th>\n",
       "      <th>TotalBsmtSF</th>\n",
       "      <th>1stFlrSF</th>\n",
       "      <th>GrLivArea</th>\n",
       "      <th>FullBath</th>\n",
       "      <th>TotRmsAbvGrd</th>\n",
       "      <th>GarageCars</th>\n",
       "      <th>GarageArea</th>\n",
       "      <th>SalePrice</th>\n",
       "      <th>ExterQual_TA</th>\n",
       "      <th>Foundation_PConc</th>\n",
       "      <th>KitchenQual_TA</th>\n",
       "    </tr>\n",
       "  </thead>\n",
       "  <tbody>\n",
       "    <tr>\n",
       "      <th>count</th>\n",
       "      <td>329.000000</td>\n",
       "      <td>329.000000</td>\n",
       "      <td>329.000000</td>\n",
       "      <td>329.000000</td>\n",
       "      <td>329.000000</td>\n",
       "      <td>329.000000</td>\n",
       "      <td>329.000000</td>\n",
       "      <td>329.000000</td>\n",
       "      <td>329.000000</td>\n",
       "      <td>329.000000</td>\n",
       "      <td>329.000000</td>\n",
       "      <td>329.000000</td>\n",
       "      <td>329.000000</td>\n",
       "      <td>329.000000</td>\n",
       "    </tr>\n",
       "    <tr>\n",
       "      <th>mean</th>\n",
       "      <td>6.200608</td>\n",
       "      <td>1972.854103</td>\n",
       "      <td>1985.562310</td>\n",
       "      <td>1108.887538</td>\n",
       "      <td>1184.000000</td>\n",
       "      <td>1522.167173</td>\n",
       "      <td>1.562310</td>\n",
       "      <td>6.547112</td>\n",
       "      <td>1.896657</td>\n",
       "      <td>511.732523</td>\n",
       "      <td>184949.598784</td>\n",
       "      <td>0.577508</td>\n",
       "      <td>0.477204</td>\n",
       "      <td>0.474164</td>\n",
       "    </tr>\n",
       "    <tr>\n",
       "      <th>std</th>\n",
       "      <td>1.337498</td>\n",
       "      <td>30.437511</td>\n",
       "      <td>21.155275</td>\n",
       "      <td>369.044411</td>\n",
       "      <td>357.787757</td>\n",
       "      <td>479.491721</td>\n",
       "      <td>0.514937</td>\n",
       "      <td>1.569060</td>\n",
       "      <td>0.668285</td>\n",
       "      <td>194.813235</td>\n",
       "      <td>73958.768561</td>\n",
       "      <td>0.494708</td>\n",
       "      <td>0.500241</td>\n",
       "      <td>0.500093</td>\n",
       "    </tr>\n",
       "    <tr>\n",
       "      <th>min</th>\n",
       "      <td>2.000000</td>\n",
       "      <td>1880.000000</td>\n",
       "      <td>1950.000000</td>\n",
       "      <td>105.000000</td>\n",
       "      <td>480.000000</td>\n",
       "      <td>480.000000</td>\n",
       "      <td>0.000000</td>\n",
       "      <td>4.000000</td>\n",
       "      <td>1.000000</td>\n",
       "      <td>160.000000</td>\n",
       "      <td>35311.000000</td>\n",
       "      <td>0.000000</td>\n",
       "      <td>0.000000</td>\n",
       "      <td>0.000000</td>\n",
       "    </tr>\n",
       "    <tr>\n",
       "      <th>25%</th>\n",
       "      <td>5.000000</td>\n",
       "      <td>1955.000000</td>\n",
       "      <td>1965.000000</td>\n",
       "      <td>856.000000</td>\n",
       "      <td>914.000000</td>\n",
       "      <td>1158.000000</td>\n",
       "      <td>1.000000</td>\n",
       "      <td>5.000000</td>\n",
       "      <td>1.000000</td>\n",
       "      <td>375.000000</td>\n",
       "      <td>134000.000000</td>\n",
       "      <td>0.000000</td>\n",
       "      <td>0.000000</td>\n",
       "      <td>0.000000</td>\n",
       "    </tr>\n",
       "    <tr>\n",
       "      <th>50%</th>\n",
       "      <td>6.000000</td>\n",
       "      <td>1972.000000</td>\n",
       "      <td>1996.000000</td>\n",
       "      <td>1040.000000</td>\n",
       "      <td>1127.000000</td>\n",
       "      <td>1484.000000</td>\n",
       "      <td>2.000000</td>\n",
       "      <td>6.000000</td>\n",
       "      <td>2.000000</td>\n",
       "      <td>492.000000</td>\n",
       "      <td>165000.000000</td>\n",
       "      <td>1.000000</td>\n",
       "      <td>0.000000</td>\n",
       "      <td>0.000000</td>\n",
       "    </tr>\n",
       "    <tr>\n",
       "      <th>75%</th>\n",
       "      <td>7.000000</td>\n",
       "      <td>2003.000000</td>\n",
       "      <td>2005.000000</td>\n",
       "      <td>1358.000000</td>\n",
       "      <td>1436.000000</td>\n",
       "      <td>1779.000000</td>\n",
       "      <td>2.000000</td>\n",
       "      <td>7.000000</td>\n",
       "      <td>2.000000</td>\n",
       "      <td>618.000000</td>\n",
       "      <td>218000.000000</td>\n",
       "      <td>1.000000</td>\n",
       "      <td>1.000000</td>\n",
       "      <td>1.000000</td>\n",
       "    </tr>\n",
       "    <tr>\n",
       "      <th>max</th>\n",
       "      <td>10.000000</td>\n",
       "      <td>2010.000000</td>\n",
       "      <td>2010.000000</td>\n",
       "      <td>2216.000000</td>\n",
       "      <td>2234.000000</td>\n",
       "      <td>3238.000000</td>\n",
       "      <td>3.000000</td>\n",
       "      <td>12.000000</td>\n",
       "      <td>4.000000</td>\n",
       "      <td>1390.000000</td>\n",
       "      <td>501837.000000</td>\n",
       "      <td>1.000000</td>\n",
       "      <td>1.000000</td>\n",
       "      <td>1.000000</td>\n",
       "    </tr>\n",
       "  </tbody>\n",
       "</table>\n",
       "</div>"
      ],
      "text/plain": [
       "       OverallQual    YearBuilt  YearRemodAdd  TotalBsmtSF     1stFlrSF  \\\n",
       "count   329.000000   329.000000    329.000000   329.000000   329.000000   \n",
       "mean      6.200608  1972.854103   1985.562310  1108.887538  1184.000000   \n",
       "std       1.337498    30.437511     21.155275   369.044411   357.787757   \n",
       "min       2.000000  1880.000000   1950.000000   105.000000   480.000000   \n",
       "25%       5.000000  1955.000000   1965.000000   856.000000   914.000000   \n",
       "50%       6.000000  1972.000000   1996.000000  1040.000000  1127.000000   \n",
       "75%       7.000000  2003.000000   2005.000000  1358.000000  1436.000000   \n",
       "max      10.000000  2010.000000   2010.000000  2216.000000  2234.000000   \n",
       "\n",
       "         GrLivArea    FullBath  TotRmsAbvGrd  GarageCars   GarageArea  \\\n",
       "count   329.000000  329.000000    329.000000  329.000000   329.000000   \n",
       "mean   1522.167173    1.562310      6.547112    1.896657   511.732523   \n",
       "std     479.491721    0.514937      1.569060    0.668285   194.813235   \n",
       "min     480.000000    0.000000      4.000000    1.000000   160.000000   \n",
       "25%    1158.000000    1.000000      5.000000    1.000000   375.000000   \n",
       "50%    1484.000000    2.000000      6.000000    2.000000   492.000000   \n",
       "75%    1779.000000    2.000000      7.000000    2.000000   618.000000   \n",
       "max    3238.000000    3.000000     12.000000    4.000000  1390.000000   \n",
       "\n",
       "           SalePrice  ExterQual_TA  Foundation_PConc  KitchenQual_TA  \n",
       "count     329.000000    329.000000        329.000000      329.000000  \n",
       "mean   184949.598784      0.577508          0.477204        0.474164  \n",
       "std     73958.768561      0.494708          0.500241        0.500093  \n",
       "min     35311.000000      0.000000          0.000000        0.000000  \n",
       "25%    134000.000000      0.000000          0.000000        0.000000  \n",
       "50%    165000.000000      1.000000          0.000000        0.000000  \n",
       "75%    218000.000000      1.000000          1.000000        1.000000  \n",
       "max    501837.000000      1.000000          1.000000        1.000000  "
      ]
     },
     "execution_count": 3,
     "metadata": {},
     "output_type": "execute_result"
    }
   ],
   "source": [
    "test.describe ()"
   ]
  },
  {
   "cell_type": "code",
   "execution_count": 6,
   "metadata": {},
   "outputs": [],
   "source": [
    "#importing relevant modules to build a machine model\n",
    "\n",
    "from sklearn.linear_model import LinearRegression as lr"
   ]
  },
  {
   "cell_type": "code",
   "execution_count": 10,
   "metadata": {},
   "outputs": [],
   "source": [
    "# Divinding the data into input and output\n",
    "\n",
    "x_train = train.drop ('SalePrice', axis = 1)\n",
    "y_train = train.loc [:, 'SalePrice']"
   ]
  },
  {
   "cell_type": "code",
   "execution_count": 12,
   "metadata": {},
   "outputs": [
    {
     "data": {
      "text/plain": [
       "0    158000\n",
       "1    118400\n",
       "2     85000\n",
       "3    135000\n",
       "4    172500\n",
       "Name: SalePrice, dtype: int64"
      ]
     },
     "execution_count": 12,
     "metadata": {},
     "output_type": "execute_result"
    }
   ],
   "source": [
    "y_train.head ()"
   ]
  },
  {
   "cell_type": "code",
   "execution_count": 13,
   "metadata": {},
   "outputs": [
    {
     "data": {
      "text/plain": [
       "LinearRegression(copy_X=True, fit_intercept=True, n_jobs=None, normalize=False)"
      ]
     },
     "execution_count": 13,
     "metadata": {},
     "output_type": "execute_result"
    }
   ],
   "source": [
    "#building the Linear Regression Model and training the model with data\n",
    "\n",
    "model = LinearRegression ()\n",
    "\n",
    "model.fit (x_train, y_train)"
   ]
  },
  {
   "cell_type": "code",
   "execution_count": 15,
   "metadata": {},
   "outputs": [],
   "source": [
    "# testing the model with some data\n",
    "\n",
    "x_test = test.drop ('SalePrice', axis = 1)\n",
    "y_test = test.loc [:, 'SalePrice']\n",
    "\n",
    "predictions = model.predict (x_test)"
   ]
  },
  {
   "cell_type": "code",
   "execution_count": 20,
   "metadata": {},
   "outputs": [
    {
     "data": {
      "text/html": [
       "<div>\n",
       "<style scoped>\n",
       "    .dataframe tbody tr th:only-of-type {\n",
       "        vertical-align: middle;\n",
       "    }\n",
       "\n",
       "    .dataframe tbody tr th {\n",
       "        vertical-align: top;\n",
       "    }\n",
       "\n",
       "    .dataframe thead th {\n",
       "        text-align: right;\n",
       "    }\n",
       "</style>\n",
       "<table border=\"1\" class=\"dataframe\">\n",
       "  <thead>\n",
       "    <tr style=\"text-align: right;\">\n",
       "      <th></th>\n",
       "      <th>Actual Sales Price</th>\n",
       "      <th>Predicted Price</th>\n",
       "    </tr>\n",
       "  </thead>\n",
       "  <tbody>\n",
       "    <tr>\n",
       "      <th>0</th>\n",
       "      <td>118500</td>\n",
       "      <td>83380.944694</td>\n",
       "    </tr>\n",
       "    <tr>\n",
       "      <th>1</th>\n",
       "      <td>154900</td>\n",
       "      <td>105974.149765</td>\n",
       "    </tr>\n",
       "    <tr>\n",
       "      <th>2</th>\n",
       "      <td>133000</td>\n",
       "      <td>139238.138343</td>\n",
       "    </tr>\n",
       "    <tr>\n",
       "      <th>3</th>\n",
       "      <td>115000</td>\n",
       "      <td>104982.049557</td>\n",
       "    </tr>\n",
       "    <tr>\n",
       "      <th>4</th>\n",
       "      <td>154500</td>\n",
       "      <td>140473.360146</td>\n",
       "    </tr>\n",
       "    <tr>\n",
       "      <th>5</th>\n",
       "      <td>132500</td>\n",
       "      <td>115735.355477</td>\n",
       "    </tr>\n",
       "    <tr>\n",
       "      <th>6</th>\n",
       "      <td>125500</td>\n",
       "      <td>96037.128606</td>\n",
       "    </tr>\n",
       "    <tr>\n",
       "      <th>7</th>\n",
       "      <td>315000</td>\n",
       "      <td>316981.678575</td>\n",
       "    </tr>\n",
       "    <tr>\n",
       "      <th>8</th>\n",
       "      <td>124000</td>\n",
       "      <td>193196.858453</td>\n",
       "    </tr>\n",
       "    <tr>\n",
       "      <th>9</th>\n",
       "      <td>372402</td>\n",
       "      <td>284836.603750</td>\n",
       "    </tr>\n",
       "  </tbody>\n",
       "</table>\n",
       "</div>"
      ],
      "text/plain": [
       "   Actual Sales Price  Predicted Price\n",
       "0              118500     83380.944694\n",
       "1              154900    105974.149765\n",
       "2              133000    139238.138343\n",
       "3              115000    104982.049557\n",
       "4              154500    140473.360146\n",
       "5              132500    115735.355477\n",
       "6              125500     96037.128606\n",
       "7              315000    316981.678575\n",
       "8              124000    193196.858453\n",
       "9              372402    284836.603750"
      ]
     },
     "execution_count": 20,
     "metadata": {},
     "output_type": "execute_result"
    }
   ],
   "source": [
    "#comparing the actaual data output with the predicted output from the test data by placing them in a table\n",
    "\n",
    "comparison = pd.DataFrame ({'Actual Sales Price': y_test ,'Predicted Price': predictions})\n",
    "comparison.head (10)"
   ]
  },
  {
   "cell_type": "code",
   "execution_count": 21,
   "metadata": {},
   "outputs": [],
   "source": [
    "# importing needed modules for performance evaluation\n",
    "\n",
    "from sklearn.metrics import mean_squared_error\n",
    "from numpy import sqrt"
   ]
  },
  {
   "cell_type": "code",
   "execution_count": 23,
   "metadata": {},
   "outputs": [
    {
     "data": {
      "text/plain": [
       "33186.384172367696"
      ]
     },
     "execution_count": 23,
     "metadata": {},
     "output_type": "execute_result"
    }
   ],
   "source": [
    "# performing a root mean squared error test on the result\n",
    "\n",
    "rsme = sqrt (mean_squared_error (y_test, predictions))\n",
    "rsme"
   ]
  },
  {
   "cell_type": "code",
   "execution_count": 30,
   "metadata": {},
   "outputs": [
    {
     "data": {
      "text/plain": [
       "SalePrice           1.000000\n",
       "OverallQual         0.792263\n",
       "GrLivArea           0.712054\n",
       "GarageCars          0.658355\n",
       "GarageArea          0.621354\n",
       "1stFlrSF            0.621057\n",
       "TotalBsmtSF         0.612205\n",
       "FullBath            0.597505\n",
       "TotRmsAbvGrd        0.573845\n",
       "Foundation_PConc    0.517222\n",
       "YearRemodAdd        0.504414\n",
       "YearBuilt           0.503317\n",
       "KitchenQual_TA     -0.527176\n",
       "ExterQual_TA       -0.598202\n",
       "Name: SalePrice, dtype: float64"
      ]
     },
     "execution_count": 30,
     "metadata": {},
     "output_type": "execute_result"
    }
   ],
   "source": [
    "# checking correlation to determing parameters that have effects on the output \n",
    "\n",
    "correlations = train.corr ()\n",
    "saleprice_correlations = correlations ['SalePrice']\n",
    "\n",
    "saleprice_correlations.sort_values (ascending = False).head (20)"
   ]
  },
  {
   "cell_type": "code",
   "execution_count": null,
   "metadata": {},
   "outputs": [],
   "source": []
  }
 ],
 "metadata": {
  "kernelspec": {
   "display_name": "Python 3",
   "language": "python",
   "name": "python3"
  },
  "language_info": {
   "codemirror_mode": {
    "name": "ipython",
    "version": 3
   },
   "file_extension": ".py",
   "mimetype": "text/x-python",
   "name": "python",
   "nbconvert_exporter": "python",
   "pygments_lexer": "ipython3",
   "version": "3.7.6"
  }
 },
 "nbformat": 4,
 "nbformat_minor": 4
}
